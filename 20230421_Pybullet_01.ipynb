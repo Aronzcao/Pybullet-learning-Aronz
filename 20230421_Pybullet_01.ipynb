{
 "cells": [
  {
   "cell_type": "code",
   "execution_count": 4,
   "metadata": {},
   "outputs": [],
   "source": [
    "import math\n",
    "import time\n",
    "import numpy as np\n",
    "from numpy import pi\n",
    "from collections import namedtuple\n",
    "\n",
    "import pybullet\n",
    "import pybullet_data\n"
   ]
  },
  {
   "cell_type": "code",
   "execution_count": 5,
   "metadata": {},
   "outputs": [],
   "source": [
    "# 创建GUI服务器\n",
    "pybullet.connect(pybullet.GUI)\n",
    "# 配置渲染选项\n",
    "# 载入棋盘格子\n",
    "# 添加额外的文件搜索路径\n",
    "pybullet.setAdditionalSearchPath(pybullet_data.getDataPath())\n",
    "# 载入棋盘平面(相当于地面)\n",
    "plane_id = pybullet.loadURDF(\"plane_transparent.urdf\")\n",
    "# 设置重力\n",
    "pybullet.setGravity(0, 0, -9.8)\n",
    "# 开启实时仿真\n",
    "pybullet.setRealTimeSimulation(True)\n",
    "\n",
    "# 机械臂在世界坐标系下的位置, 单位m, 格式[x, y, z]\n",
    "arm_posi = [0, 0, 0]\n",
    "# 机械臂姿态-四元数, 格式 [x, y, z, w]\n",
    "arm_q =  [0, 0, 0, 1]\n",
    "# 定义标志位\n",
    "# 1. 开启机械臂连杆的自碰撞检测, 不检测与父连杆的碰撞\n",
    "flags = pybullet.URDF_USE_SELF_COLLISION_EXCLUDE_PARENT \n",
    "# 2. 使用URDF模型里面的转动惯量\n",
    "flags |= pybullet.URDF_USE_INERTIA_FROM_FILE \n",
    "# 载入机械臂URDF模型\n",
    "arm_id = pybullet.loadURDF(\"TwoJointRobot_w_fixedJoints.urdf\", arm_posi, arm_q, \\\n",
    "                           useFixedBase=True, flags=flags)\n"
   ]
  },
  {
   "cell_type": "code",
   "execution_count": 6,
   "metadata": {},
   "outputs": [
    {
     "name": "stdout",
     "output_type": "stream",
     "text": [
      "2\n"
     ]
    }
   ],
   "source": [
    "# 获取仿真环境下Body个数\n",
    "print(pybullet.getNumBodies())\n"
   ]
  },
  {
   "cell_type": "code",
   "execution_count": 7,
   "metadata": {},
   "outputs": [
    {
     "name": "stdout",
     "output_type": "stream",
     "text": [
      "(b'base_link', b'TwoJointRobot')\n"
     ]
    }
   ],
   "source": [
    "# 查看arm4dof的信息\n",
    "print(pybullet.getBodyInfo(arm_id))\n"
   ]
  },
  {
   "cell_type": "code",
   "execution_count": 8,
   "metadata": {},
   "outputs": [
    {
     "name": "stdout",
     "output_type": "stream",
     "text": [
      "机械臂的ID：1\n"
     ]
    }
   ],
   "source": [
    "def get_body_id_by_name(body_name):\n",
    "    '''根据Body的名称查询ID号'''\n",
    "    body_num = pybullet.getNumBodies()\n",
    "    for body_idx in range(body_num):\n",
    "        cur_body_name = pybullet.getBodyInfo(body_idx)[-1].decode(\"utf-8\")\n",
    "        if body_name == cur_body_name:\n",
    "            return body_idx\n",
    "    return None\n",
    "\n",
    "# 机械臂的名称\n",
    "arm_name  = \"TwoJointRobot\" \n",
    "# 根据机械臂名称查询在PyBullet里面的Body ID\n",
    "arm_id = get_body_id_by_name(arm_name)\n",
    "print(f\"机械臂的ID：{arm_id}\")\n"
   ]
  },
  {
   "cell_type": "code",
   "execution_count": 9,
   "metadata": {},
   "outputs": [
    {
     "data": {
      "text/plain": [
       "((0.0, 0.0, 0.0), (0.0, 0.0, 0.0, 1.0))"
      ]
     },
     "execution_count": 9,
     "metadata": {},
     "output_type": "execute_result"
    }
   ],
   "source": [
    "#查询机械臂基座的位姿\n",
    "pybullet.getBasePositionAndOrientation(arm_id)\n"
   ]
  },
  {
   "cell_type": "code",
   "execution_count": 12,
   "metadata": {},
   "outputs": [
    {
     "name": "stdout",
     "output_type": "stream",
     "text": [
      "new_quaternion =(0.0, 0.0, 0.0, 1.0)\n"
     ]
    }
   ],
   "source": [
    "#重置机械臂基座的位姿\n",
    "# 定义基坐标系新的位置\n",
    "new_position = [0, 0.4, 0]\n",
    "# 定义欧拉角\n",
    "roll = 0\n",
    "pitch = 0\n",
    "yaw = 0\n",
    "# 欧拉角转换为四元数\n",
    "new_quaternion = pybullet.getQuaternionFromEuler([roll, pitch, yaw])\n",
    "print(f\"new_quaternion ={new_quaternion}\")\n",
    "# 重置基座位姿\n",
    "pybullet.resetBasePositionAndOrientation(arm_id, \\\n",
    "                        new_position, new_quaternion)\n"
   ]
  },
  {
   "cell_type": "code",
   "execution_count": 13,
   "metadata": {},
   "outputs": [
    {
     "data": {
      "text/plain": [
       "((0.0, 0.0, 0.0), (0.0, 0.0, 0.0))"
      ]
     },
     "execution_count": 13,
     "metadata": {},
     "output_type": "execute_result"
    }
   ],
   "source": [
    "# 获取基座的速度\n",
    "pybullet.getBaseVelocity(arm_id)\n"
   ]
  },
  {
   "cell_type": "code",
   "execution_count": 15,
   "metadata": {},
   "outputs": [
    {
     "name": "stdout",
     "output_type": "stream",
     "text": [
      "机械臂关节个数:6\n",
      "<built-in function getJointInfo>\n"
     ]
    }
   ],
   "source": [
    "# 获取机械臂所有的关节数\n",
    "joint_num = pybullet.getNumJoints(arm_id)\n",
    "print(f\"机械臂关节个数:{joint_num}\")\n"
   ]
  },
  {
   "cell_type": "code",
   "execution_count": 17,
   "metadata": {},
   "outputs": [
    {
     "name": "stdout",
     "output_type": "stream",
     "text": [
      "机器人的信息：\n",
      "关节序号：0\n",
      "            关节名称：b'joint_1'\n",
      "            关节类型：0\n",
      "            机器人第一个位置的变量索引：7\n",
      "            机器人第一个速度的变量索引：6\n",
      "            保留参数：1\n",
      "            关节的阻尼大小：0.0\n",
      "            关节的摩擦系数：0.0\n",
      "            slider和revolute(hinge)类型的位移最小值：-3.0\n",
      "            slider和revolute(hinge)类型的位移最大值：3.0\n",
      "            关节驱动的最大值：10000.0\n",
      "            关节的最大速度：5.0\n",
      "            节点名称：b'link_01_cyl'\n",
      "            局部框架中的关节轴系：(0.0, 0.0, 1.0)\n",
      "            父节点frame的关节位置：(0.0, 0.0, 0.075)\n",
      "            父节点frame的关节方向：(0.0, 0.0, 0.0, 1.0)\n",
      "            父节点的索引，若是基座返回-1：-1\n",
      "\n",
      "\n",
      "关节序号：1\n",
      "            关节名称：b'link_01'\n",
      "            关节类型：4\n",
      "            机器人第一个位置的变量索引：-1\n",
      "            机器人第一个速度的变量索引：-1\n",
      "            保留参数：0\n",
      "            关节的阻尼大小：0.0\n",
      "            关节的摩擦系数：0.0\n",
      "            slider和revolute(hinge)类型的位移最小值：0.0\n",
      "            slider和revolute(hinge)类型的位移最大值：-1.0\n",
      "            关节驱动的最大值：0.0\n",
      "            关节的最大速度：0.0\n",
      "            节点名称：b'link_1'\n",
      "            局部框架中的关节轴系：(0.0, 0.0, 0.0)\n",
      "            父节点frame的关节位置：(0.0, 0.0, 0.0)\n",
      "            父节点frame的关节方向：(0.0, 0.0, 0.0, 1.0)\n",
      "            父节点的索引，若是基座返回-1：0\n",
      "\n",
      "\n",
      "关节序号：2\n",
      "            关节名称：b'link_12'\n",
      "            关节类型：4\n",
      "            机器人第一个位置的变量索引：-1\n",
      "            机器人第一个速度的变量索引：-1\n",
      "            保留参数：0\n",
      "            关节的阻尼大小：0.0\n",
      "            关节的摩擦系数：0.0\n",
      "            slider和revolute(hinge)类型的位移最小值：0.0\n",
      "            slider和revolute(hinge)类型的位移最大值：-1.0\n",
      "            关节驱动的最大值：0.0\n",
      "            关节的最大速度：0.0\n",
      "            节点名称：b'link_12_cyl'\n",
      "            局部框架中的关节轴系：(0.0, 0.0, 0.0)\n",
      "            父节点frame的关节位置：(1.0, 0.0, 0.0)\n",
      "            父节点frame的关节方向：(0.0, 0.0, 0.0, 1.0)\n",
      "            父节点的索引，若是基座返回-1：1\n",
      "\n",
      "\n",
      "关节序号：3\n",
      "            关节名称：b'joint_2'\n",
      "            关节类型：0\n",
      "            机器人第一个位置的变量索引：8\n",
      "            机器人第一个速度的变量索引：7\n",
      "            保留参数：1\n",
      "            关节的阻尼大小：0.0\n",
      "            关节的摩擦系数：0.0\n",
      "            slider和revolute(hinge)类型的位移最小值：-3.0\n",
      "            slider和revolute(hinge)类型的位移最大值：3.0\n",
      "            关节驱动的最大值：10000.0\n",
      "            关节的最大速度：5.0\n",
      "            节点名称：b'link_21_cyl'\n",
      "            局部框架中的关节轴系：(0.0, 0.0, 1.0)\n",
      "            父节点frame的关节位置：(0.0, 0.0, 0.05)\n",
      "            父节点frame的关节方向：(0.0, 0.0, 0.0, 1.0)\n",
      "            父节点的索引，若是基座返回-1：2\n",
      "\n",
      "\n",
      "关节序号：4\n",
      "            关节名称：b'link_21'\n",
      "            关节类型：4\n",
      "            机器人第一个位置的变量索引：-1\n",
      "            机器人第一个速度的变量索引：-1\n",
      "            保留参数：0\n",
      "            关节的阻尼大小：0.0\n",
      "            关节的摩擦系数：0.0\n",
      "            slider和revolute(hinge)类型的位移最小值：0.0\n",
      "            slider和revolute(hinge)类型的位移最大值：-1.0\n",
      "            关节驱动的最大值：0.0\n",
      "            关节的最大速度：0.0\n",
      "            节点名称：b'link_2'\n",
      "            局部框架中的关节轴系：(0.0, 0.0, 0.0)\n",
      "            父节点frame的关节位置：(0.0, 0.0, 0.0)\n",
      "            父节点frame的关节方向：(0.0, 0.0, 0.0, 1.0)\n",
      "            父节点的索引，若是基座返回-1：3\n",
      "\n",
      "\n",
      "关节序号：5\n",
      "            关节名称：b'link_23'\n",
      "            关节类型：4\n",
      "            机器人第一个位置的变量索引：-1\n",
      "            机器人第一个速度的变量索引：-1\n",
      "            保留参数：0\n",
      "            关节的阻尼大小：0.0\n",
      "            关节的摩擦系数：0.0\n",
      "            slider和revolute(hinge)类型的位移最小值：0.0\n",
      "            slider和revolute(hinge)类型的位移最大值：-1.0\n",
      "            关节驱动的最大值：0.0\n",
      "            关节的最大速度：0.0\n",
      "            节点名称：b'link_23_cyl'\n",
      "            局部框架中的关节轴系：(0.0, 0.0, 0.0)\n",
      "            父节点frame的关节位置：(1.0, 0.0, 0.0)\n",
      "            父节点frame的关节方向：(0.0, 0.0, 0.0, 1.0)\n",
      "            父节点的索引，若是基座返回-1：4\n",
      "\n",
      "\n"
     ]
    }
   ],
   "source": [
    "#查看机器人信息\n",
    "print(\"机器人的信息：\")\n",
    "for joint_index in range(joint_num):\n",
    "    info_tuple = pybullet.getJointInfo(arm_id, joint_index)\n",
    "    print(f\"关节序号：{info_tuple[0]}\\n\\\n",
    "            关节名称：{info_tuple[1]}\\n\\\n",
    "            关节类型：{info_tuple[2]}\\n\\\n",
    "            机器人第一个位置的变量索引：{info_tuple[3]}\\n\\\n",
    "            机器人第一个速度的变量索引：{info_tuple[4]}\\n\\\n",
    "            保留参数：{info_tuple[5]}\\n\\\n",
    "            关节的阻尼大小：{info_tuple[6]}\\n\\\n",
    "            关节的摩擦系数：{info_tuple[7]}\\n\\\n",
    "            slider和revolute(hinge)类型的位移最小值：{info_tuple[8]}\\n\\\n",
    "            slider和revolute(hinge)类型的位移最大值：{info_tuple[9]}\\n\\\n",
    "            关节驱动的最大值：{info_tuple[10]}\\n\\\n",
    "            关节的最大速度：{info_tuple[11]}\\n\\\n",
    "            节点名称：{info_tuple[12]}\\n\\\n",
    "            局部框架中的关节轴系：{info_tuple[13]}\\n\\\n",
    "            父节点frame的关节位置：{info_tuple[14]}\\n\\\n",
    "            父节点frame的关节方向：{info_tuple[15]}\\n\\\n",
    "            父节点的索引，若是基座返回-1：{info_tuple[16]}\\n\\n\")"
   ]
  },
  {
   "cell_type": "code",
   "execution_count": 18,
   "metadata": {},
   "outputs": [
    {
     "name": "stdout",
     "output_type": "stream",
     "text": [
      "[b'joint_1', b'joint_2']\n"
     ]
    }
   ],
   "source": [
    "#寻找可以控制的关节\n",
    "# 可以使用的关节\n",
    "available_joints_indexes = [i for i in range(pybullet.getNumJoints(arm_id)) if pybullet.getJointInfo(arm_id, i)[2] != pybullet.JOINT_FIXED]\n",
    "\n",
    "print([pybullet.getJointInfo(arm_id, i)[1] for i in available_joints_indexes])"
   ]
  },
  {
   "cell_type": "code",
   "execution_count": 20,
   "metadata": {},
   "outputs": [
    {
     "name": "stdout",
     "output_type": "stream",
     "text": [
      "关节名称: joint_1\n",
      "关节名称: joint_2\n",
      "{'joint_1': JointInfo(id=0, name='joint_1', lower_limit=-3.0, upper_limit=3.0, max_force=10000.0, max_velocity=5.0), 'joint_2': JointInfo(id=3, name='joint_2', lower_limit=-3.0, upper_limit=3.0, max_force=10000.0, max_velocity=5.0)}\n"
     ]
    }
   ],
   "source": [
    "# 创建一个nametuple类型\n",
    "JointInfo = namedtuple(\"JointInfo\", [\"id\", \"name\", \"lower_limit\",\\\n",
    "                        \"upper_limit\", \"max_force\", \"max_velocity\"])\n",
    "\n",
    "joint_name_list=['joint_1', 'joint_2']\n",
    "# 构造关节信息字典\n",
    "joint_info_dict = {}\n",
    "for joint_idx in range(joint_num):\n",
    "    # 获取每个关节的信息\n",
    "    joint_info = pybullet.getJointInfo(arm_id, joint_idx)\n",
    "    joint_name = joint_info[1].decode(\"utf8\")\n",
    "    if joint_name in joint_name_list:\n",
    "        print(\"关节名称: {}\".format(joint_name))\n",
    "        joint_id = joint_info[0]\n",
    "        joint_lower_limit = joint_info[8]\n",
    "        joint_upper_limit = joint_info[9]\n",
    "        joint_max_force = joint_info[10]\n",
    "        joint_max_velocity = joint_info[11]\n",
    "        joint_info = JointInfo(joint_id, joint_name, joint_lower_limit,\n",
    "                   joint_upper_limit, joint_max_force, joint_max_velocity)\n",
    "        joint_info_dict[joint_name] = joint_info\n",
    "        \n",
    "print(joint_info_dict)\n",
    "\n",
    "\n",
    "\n"
   ]
  },
  {
   "cell_type": "code",
   "execution_count": 22,
   "metadata": {},
   "outputs": [
    {
     "name": "stdout",
     "output_type": "stream",
     "text": [
      "joint_1 : id=0 lowerb=-3.0000 upperb=3.0000\n",
      "joint_2 : id=3 lowerb=-3.0000 upperb=3.0000\n",
      "[0, 3]\n"
     ]
    }
   ],
   "source": [
    "#获取可控关节的ID\n",
    "for o in joint_name_list:\n",
    "    # 受控关节ID\n",
    "    joint_id = joint_info_dict[o].id\n",
    "    # 获取关节的角度下限\n",
    "    lowerb = joint_info_dict[o].lower_limit\n",
    "    # 获取关节的角度上限\n",
    "    upperb = joint_info_dict[o].upper_limit\n",
    "    print(f\"{o} : id={joint_id} \" + \\\n",
    "      f\"lowerb={lowerb:.4f} upperb={upperb:.4f}\")\n",
    "# 受控关节ID列表\n",
    "control_joint_id_list = []\n",
    "for joint_name in joint_name_list:\n",
    "    joint_id = joint_info_dict[joint_name].id\n",
    "    control_joint_id_list.append(joint_id)\n",
    "\n",
    "print(control_joint_id_list)\n"
   ]
  },
  {
   "cell_type": "code",
   "execution_count": 23,
   "metadata": {},
   "outputs": [
    {
     "data": {
      "text/plain": [
       "(0.0, 0.0, (0.0, 0.0, 0.0, 0.0, 0.0, 0.0), 0.0)"
      ]
     },
     "execution_count": 23,
     "metadata": {},
     "output_type": "execute_result"
    }
   ],
   "source": [
    "# 获取单个关节的状态\n",
    "pybullet.getJointState(arm_id, joint_idx)\n"
   ]
  },
  {
   "cell_type": "code",
   "execution_count": 26,
   "metadata": {},
   "outputs": [],
   "source": [
    "# 重置关节状态\n",
    "joint_idx = 3 # 关节ID\n",
    "target_position = 0 # 关节目标弧度\n",
    "target_velocity = 1 # 关节目标速度\n",
    "# 重置关节状态\n",
    "pybullet.resetJointState(arm_id, joint_idx, \\\n",
    "        target_position, target_velocity)\n"
   ]
  },
  {
   "cell_type": "code",
   "execution_count": 31,
   "metadata": {},
   "outputs": [],
   "source": [
    "# 重置下关节角度\n",
    "# T0时刻的关节位置跟速度都设置为0\n",
    "pybullet.resetJointState(arm_id, joint_id, 0, 0)\n",
    "# 让关节1按照特定速度旋转\n",
    "target_velocity = 1.0 # 关节目标转速\n",
    "velocity_gain = 1.0 # 速度的增益, Kd\n",
    "joint_info = joint_info_dict[\"joint_1\"] # 获取关节信息\n",
    "pybullet.setJointMotorControl2(arm_id, joint_info.id,\\\n",
    "            pybullet.VELOCITY_CONTROL, targetVelocity=target_velocity, \\\n",
    "            velocityGain=velocity_gain, force=joint_info.max_force)\n"
   ]
  },
  {
   "cell_type": "code",
   "execution_count": 34,
   "metadata": {},
   "outputs": [],
   "source": [
    "# 关节ID\n",
    "joint_id = joint_info_dict[\"joint_1\"].id \n",
    "target_position = math.pi/4 # 目标位置\n",
    "target_velocity = 0.0 # 目标转速\n",
    "position_gain = 0.01 # 位置增益(Kp)\n",
    "velocity_gain = 0.3 # 速度增益(Kd)\n",
    "# 最大输出力矩\n",
    "max_force = joint_info_dict[\"joint_1\"].max_force\n",
    "\n",
    "# 控制多个旋转关节的角度\n",
    "# 位置控制 制定速度为0，位置为关节目标角度\n",
    "# 位置增益: Kp\n",
    "pybullet.setJointMotorControl2(\n",
    "    arm_id, joint_id, pybullet.POSITION_CONTROL,\n",
    "    targetPosition=target_position, targetVelocity=0.0,\n",
    "    positionGain=position_gain, velocityGain=velocity_gain, \\\n",
    "    force=max_force)\n"
   ]
  },
  {
   "cell_type": "code",
   "execution_count": 37,
   "metadata": {},
   "outputs": [],
   "source": [
    "# 关节个数\n",
    "ctl_joint_num = len(control_joint_id_list)\n",
    "# 目标过节角度\n",
    "target_position_list = [math.pi/2, -math.pi/2]\n",
    "# 控制多个旋转关节的角度\n",
    "# 注: 这里给所有的关节设置了同一组PD控制器的参数positionGains与velocityGains，\n",
    "pybullet.setJointMotorControlArray(\n",
    "    arm_id, control_joint_id_list,\n",
    "    pybullet.POSITION_CONTROL,\n",
    "    targetPositions=target_position_list,\n",
    "    targetVelocities=[0]*ctl_joint_num,\n",
    "    positionGains=[0.01]*ctl_joint_num,\n",
    "    velocityGains=[0.3] *ctl_joint_num,\n",
    "    forces=[20.0]*ctl_joint_num)\n"
   ]
  },
  {
   "cell_type": "code",
   "execution_count": 38,
   "metadata": {},
   "outputs": [],
   "source": [
    "import numpy as np\n",
    "\n",
    "class PVT_Spline():\n",
    "    def __init__(self, name='None'):\n",
    "        \"\"\"\n",
    "        :param: name\n",
    "            the name of the PVT_spline object\n",
    "        \"\"\"\n",
    "        super(self.__class__, self).__init__()\n",
    "        self.name = name\n",
    "\n",
    "    def PVT_splineTwoPoints(self, via_point_0, via_point_1):\n",
    "        \"\"\"\n",
    "        :param: via_point_0: float\n",
    "            the first via points\n",
    "        :param: via_point_1: float\n",
    "            the second via points\n",
    "        \"\"\"\n",
    "        p0 = via_point_0[0]\n",
    "        v0 = via_point_0[1]\n",
    "        t0 = via_point_0[2]\n",
    "\n",
    "        p1 = via_point_1[0]\n",
    "        v1 = via_point_1[1]\n",
    "        t1 = via_point_1[2]\n",
    "\n",
    "        T = t1-t0\n",
    "        d = p0\n",
    "        c = v0\n",
    "        b = (3*p1 - v1*T - 2*v0*T - 3*p0)/(T**2)\n",
    "        a = (-2*p1 + v1*T + v0*T + 2*p0)/(T**3)\n",
    "        PVT_param = [a, b, c, d]\n",
    "\n",
    "        return PVT_param\n",
    "\n",
    "    def PVT_spline(self, via_points):\n",
    "        \"\"\"\n",
    "        :param: via_points: float, np.array\n",
    "            a set of the np.array with size Nx3, where N is the length of via points\n",
    "        \"\"\"\n",
    "        queue_len = via_points.shape[0]\n",
    "        if queue_len < 2:\n",
    "            assert('point num too small')\n",
    "\n",
    "        PVT_param_queue = np.zeros((queue_len-1, 4))\n",
    "\n",
    "        for i in range(0, queue_len-1):\n",
    "            PVT_param_queue[i,:] = self.PVT_splineTwoPoints(via_points[i,:], via_points[i+1,:])\n",
    "        \n",
    "        return PVT_param_queue\n",
    "\n",
    "    def PVT_getPVTValue(self, PVT_param_queue, via_points, t):\n",
    "        \"\"\"\n",
    "        :param: PVT_param_queue: float, list\n",
    "            a set of the list object\n",
    "        :param: via_points: float, np.array\n",
    "            a set of the n[].array with size Nx3, where N is the length of via points\n",
    "        \"\"\"\n",
    "        t_start = via_points[0, 2]\n",
    "        t_end = via_points[-1, 2]\n",
    "        PVT_point = np.zeros((1, 3))\n",
    "\n",
    "        if t <= t_start:\n",
    "            PVT_point_tmp = [via_points[0,0], via_points[0, 1], t]\n",
    "        elif t >= t_end:\n",
    "            PVT_point_tmp = [via_points[-1,0], via_points[-1, 1], t]\n",
    "        else:\n",
    "            for i in range(1, via_points.shape[0]):\n",
    "                if t < via_points[i, 2]:\n",
    "                    a = PVT_param_queue[i-1, 0]\n",
    "                    b = PVT_param_queue[i-1, 1]\n",
    "                    c = PVT_param_queue[i-1, 2]\n",
    "                    d = PVT_param_queue[i-1, 3]\n",
    "                    t0 = via_points[i-1, 2]\n",
    "\n",
    "                    p = a*(t-t0)**3 + b*(t-t0)**2 + c*(t-t0) + d\n",
    "                    v = 3*a*(t-t0)**2 + 2*b*(t-t0) + c\n",
    "                    PVT_point_tmp = [p, v, t]\n",
    "                    break\n",
    "\n",
    "        PVT_point[0,0] = PVT_point_tmp[0]\n",
    "        PVT_point[0,1] = PVT_point_tmp[1]\n",
    "        PVT_point[0,2] = PVT_point_tmp[2]\n",
    "        return PVT_point\n"
   ]
  },
  {
   "cell_type": "code",
   "execution_count": 47,
   "metadata": {},
   "outputs": [],
   "source": [
    "#在GUI界面显示str\n",
    "Text_id=pybullet.addUserDebugText(\n",
    "    text=\"base\",\n",
    "    textPosition=[0, 0, 0],\n",
    "    textColorRGB=[1, 0, 0],\n",
    "    textSize=2,\n",
    ")\n",
    "\n",
    "#在GUI界面绘制线条（可用于绘制坐标系）\n",
    "froms = [[1, 1, 0], [-1, 1, 0], [-1, 1, 3], [1, 1, 3]]\n",
    "tos = [[-1, 1, 0], [-1, 1, 3], [1, 1, 3], [1, 1, 0]]\n",
    "for f, t in zip(froms, tos):\n",
    "    Line_id=pybullet.addUserDebugLine(\n",
    "        lineFromXYZ=f,\n",
    "        lineToXYZ=t,\n",
    "        lineColorRGB=[0, 1, 0],\n",
    "        lineWidth=10\n",
    "    )\n",
    "\n",
    "\n",
    "\n",
    "\n"
   ]
  },
  {
   "cell_type": "code",
   "execution_count": 49,
   "metadata": {},
   "outputs": [],
   "source": [
    "#移除1个文字、线条\n",
    "pybullet.removeUserDebugItem(Text_id)\n",
    "#全部移除\n",
    "pybullet.removeAllUserDebugItems()\n",
    "\n"
   ]
  },
  {
   "cell_type": "code",
   "execution_count": 52,
   "metadata": {},
   "outputs": [
    {
     "data": {
      "text/plain": [
       "(480,\n",
       " 320,\n",
       " array([[[162, 186, 224, 255],\n",
       "         [162, 186, 224, 255],\n",
       "         [162, 186, 224, 255],\n",
       "         ...,\n",
       "         [162, 186, 224, 255],\n",
       "         [162, 186, 224, 255],\n",
       "         [162, 186, 224, 255]],\n",
       " \n",
       "        [[162, 186, 224, 255],\n",
       "         [162, 186, 224, 255],\n",
       "         [162, 186, 224, 255],\n",
       "         ...,\n",
       "         [162, 186, 224, 255],\n",
       "         [162, 186, 224, 255],\n",
       "         [162, 186, 224, 255]],\n",
       " \n",
       "        [[162, 186, 224, 255],\n",
       "         [162, 186, 224, 255],\n",
       "         [162, 186, 224, 255],\n",
       "         ...,\n",
       "         [239, 239, 239, 255],\n",
       "         [239, 239, 239, 255],\n",
       "         [239, 239, 239, 255]],\n",
       " \n",
       "        ...,\n",
       " \n",
       "        [[239, 239, 239, 255],\n",
       "         [239, 239, 239, 255],\n",
       "         [239, 239, 239, 255],\n",
       "         ...,\n",
       "         [239, 239, 239, 255],\n",
       "         [239, 239, 239, 255],\n",
       "         [239, 239, 239, 255]],\n",
       " \n",
       "        [[239, 239, 239, 255],\n",
       "         [239, 239, 239, 255],\n",
       "         [239, 239, 239, 255],\n",
       "         ...,\n",
       "         [239, 239, 239, 255],\n",
       "         [239, 239, 239, 255],\n",
       "         [239, 239, 239, 255]],\n",
       " \n",
       "        [[239, 239, 239, 255],\n",
       "         [239, 239, 239, 255],\n",
       "         [239, 239, 239, 255],\n",
       "         ...,\n",
       "         [239, 239, 239, 255],\n",
       "         [239, 239, 239, 255],\n",
       "         [239, 239, 239, 255]]], dtype=uint8),\n",
       " array([[0.9956279 , 0.9956279 , 0.9956279 , ..., 0.9956279 , 0.9956279 ,\n",
       "         0.9956279 ],\n",
       "        [0.9956268 , 0.9956268 , 0.9956268 , ..., 0.9956268 , 0.9956268 ,\n",
       "         0.9956268 ],\n",
       "        [0.9956259 , 0.9956259 , 0.9956259 , ..., 0.9956259 , 0.9956259 ,\n",
       "         0.9956259 ],\n",
       "        ...,\n",
       "        [0.9953138 , 0.9953138 , 0.9953138 , ..., 0.9953138 , 0.9953138 ,\n",
       "         0.9953138 ],\n",
       "        [0.9953128 , 0.9953128 , 0.9953128 , ..., 0.9953128 , 0.9953128 ,\n",
       "         0.9953128 ],\n",
       "        [0.99531186, 0.99531186, 0.99531186, ..., 0.99531186, 0.99531186,\n",
       "         0.99531186]], dtype=float32),\n",
       " array([[0, 0, 0, ..., 0, 0, 0],\n",
       "        [0, 0, 0, ..., 0, 0, 0],\n",
       "        [0, 0, 0, ..., 0, 0, 0],\n",
       "        ...,\n",
       "        [0, 0, 0, ..., 0, 0, 0],\n",
       "        [0, 0, 0, ..., 0, 0, 0],\n",
       "        [0, 0, 0, ..., 0, 0, 0]]))"
      ]
     },
     "execution_count": 52,
     "metadata": {},
     "output_type": "execute_result"
    }
   ],
   "source": [
    "pybullet.getCameraImage(480,320)"
   ]
  }
 ],
 "metadata": {
  "kernelspec": {
   "display_name": "DL",
   "language": "python",
   "name": "python3"
  },
  "language_info": {
   "codemirror_mode": {
    "name": "ipython",
    "version": 3
   },
   "file_extension": ".py",
   "mimetype": "text/x-python",
   "name": "python",
   "nbconvert_exporter": "python",
   "pygments_lexer": "ipython3",
   "version": "3.7.16"
  },
  "orig_nbformat": 4
 },
 "nbformat": 4,
 "nbformat_minor": 2
}
